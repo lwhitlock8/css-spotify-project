{
 "cells": [
  {
   "cell_type": "code",
   "execution_count": 1,
   "metadata": {},
   "outputs": [
    {
     "data": {
      "text/html": [
       "<div>\n",
       "<style scoped>\n",
       "    .dataframe tbody tr th:only-of-type {\n",
       "        vertical-align: middle;\n",
       "    }\n",
       "\n",
       "    .dataframe tbody tr th {\n",
       "        vertical-align: top;\n",
       "    }\n",
       "\n",
       "    .dataframe thead th {\n",
       "        text-align: right;\n",
       "    }\n",
       "</style>\n",
       "<table border=\"1\" class=\"dataframe\">\n",
       "  <thead>\n",
       "    <tr style=\"text-align: right;\">\n",
       "      <th></th>\n",
       "      <th>Name</th>\n",
       "      <th>Artist ID</th>\n",
       "    </tr>\n",
       "  </thead>\n",
       "  <tbody>\n",
       "    <tr>\n",
       "      <th>0</th>\n",
       "      <td>Mumford and sons</td>\n",
       "      <td>3gd8FJtBJtkRxdfbTu19U2</td>\n",
       "    </tr>\n",
       "    <tr>\n",
       "      <th>1</th>\n",
       "      <td>Billie Eilish</td>\n",
       "      <td>6qqNVTkY8uBg9cP3Jd7DAH</td>\n",
       "    </tr>\n",
       "    <tr>\n",
       "      <th>2</th>\n",
       "      <td>Kendrick Lamar</td>\n",
       "      <td>2YZyLoL8N0Wb9xBt1NhZWg</td>\n",
       "    </tr>\n",
       "    <tr>\n",
       "      <th>3</th>\n",
       "      <td>Bruce Springsteen</td>\n",
       "      <td>3eqjTLE0HfPfh78zjh6TqT</td>\n",
       "    </tr>\n",
       "    <tr>\n",
       "      <th>4</th>\n",
       "      <td>zara larsson</td>\n",
       "      <td>1Xylc3o4UrD53lo9CvFvVg</td>\n",
       "    </tr>\n",
       "  </tbody>\n",
       "</table>\n",
       "</div>"
      ],
      "text/plain": [
       "                Name               Artist ID\n",
       "0   Mumford and sons  3gd8FJtBJtkRxdfbTu19U2\n",
       "1      Billie Eilish  6qqNVTkY8uBg9cP3Jd7DAH\n",
       "2     Kendrick Lamar  2YZyLoL8N0Wb9xBt1NhZWg\n",
       "3  Bruce Springsteen  3eqjTLE0HfPfh78zjh6TqT\n",
       "4       zara larsson  1Xylc3o4UrD53lo9CvFvVg"
      ]
     },
     "execution_count": 1,
     "metadata": {},
     "output_type": "execute_result"
    }
   ],
   "source": [
    "import spotipy # You need to install this \n",
    "from spotipy.oauth2 import SpotifyClientCredentials\n",
    "import pandas as pd \n",
    "\n",
    "def get_artist_ids(artist_names : list):\n",
    "\n",
    "    client_credentials_manager = SpotifyClientCredentials(client_id='YOUR_CLIENT_ID',\n",
    "                                                        client_secret='YOUR_CLIENT_SECRET')\n",
    "    sp = spotipy.Spotify(client_credentials_manager=client_credentials_manager)\n",
    "\n",
    "    artist_dict = {}\n",
    "    for artist_name in artist_names:\n",
    "        results = sp.search(q='artist:' + artist_name, type='artist', limit=1)\n",
    "        \n",
    "        if results['artists']['items']:\n",
    "            artist_id = results['artists']['items'][0]['id']\n",
    "            artist_dict[artist_name] = artist_id\n",
    "        else:\n",
    "            artist_dict[artist_name] = None\n",
    "\n",
    "    artist_df = pd.DataFrame([artist_dict]).T.reset_index()\n",
    "    artist_df.columns = ['Name', 'Artist ID']\n",
    "    return artist_df \n",
    "\n",
    "\n",
    "artist_names = ['Mumford and sons', 'Billie Eilish', 'Kendrick Lamar', \"Bruce Springsteen\", \"zara larsson\"]\n",
    "df = get_artist_ids(artist_names)\n",
    "df"
   ]
  }
 ],
 "metadata": {
  "kernelspec": {
   "display_name": "base",
   "language": "python",
   "name": "python3"
  },
  "language_info": {
   "codemirror_mode": {
    "name": "ipython",
    "version": 3
   },
   "file_extension": ".py",
   "mimetype": "text/x-python",
   "name": "python",
   "nbconvert_exporter": "python",
   "pygments_lexer": "ipython3",
   "version": "3.11.5"
  }
 },
 "nbformat": 4,
 "nbformat_minor": 2
}
